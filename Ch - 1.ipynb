{
 "cells": [
  {
   "cell_type": "markdown",
   "id": "bb6cb2db",
   "metadata": {},
   "source": [
    "Numpy\n",
    "  -> It is the python library that is used for fast mathematical operations and\n",
    "  used for large data handling.\n",
    "  -> It's mainly work with arrays(vectors, matrices) "
   ]
  },
  {
   "cell_type": "code",
   "execution_count": 1,
   "id": "420ba587",
   "metadata": {},
   "outputs": [],
   "source": [
    "import numpy as np\n",
    "arr1 = np.array([1,2,3]) # 1-D Array"
   ]
  },
  {
   "cell_type": "code",
   "execution_count": null,
   "id": "b75743ae",
   "metadata": {},
   "outputs": [],
   "source": [
    "arr2 = np.array([[1,2,3],[4,5,6]]) # 2-D Array\n",
    "arr3 = np.array([[1,2],[3,4],[5,6]]) # 3-D Array"
   ]
  },
  {
   "cell_type": "code",
   "execution_count": null,
   "id": "ad64aef8",
   "metadata": {},
   "outputs": [
    {
     "name": "stdout",
     "output_type": "stream",
     "text": [
      "1-D :  [1 2 3]\n",
      "2-D :  [[1 2 3]\n",
      " [4 5 6]]\n",
      "3-D :  [[1 2]\n",
      " [3 4]\n",
      " [5 6]]\n"
     ]
    }
   ],
   "source": [
    "print(\"1-D : \",arr1)\n",
    "print(\"2-D : \",arr2)\n",
    "print(\"2-D : \",arr3)"
   ]
  },
  {
   "cell_type": "code",
   "execution_count": 12,
   "id": "7ff681db",
   "metadata": {},
   "outputs": [
    {
     "name": "stdout",
     "output_type": "stream",
     "text": [
      "1\n",
      "2\n",
      "2\n"
     ]
    }
   ],
   "source": [
    "# Important Array Properties\n",
    "print(arr1.ndim) # Represents dimension: 1-D, 2-D etc.\n",
    "print(arr2.ndim)\n",
    "print(arr3.ndim)"
   ]
  },
  {
   "cell_type": "code",
   "execution_count": 11,
   "id": "883d75ee",
   "metadata": {},
   "outputs": [
    {
     "name": "stdout",
     "output_type": "stream",
     "text": [
      "(3, 2)\n"
     ]
    }
   ],
   "source": [
    "print(arr3.shape) # Represents the Shape(rows , columns)"
   ]
  },
  {
   "cell_type": "code",
   "execution_count": null,
   "id": "bff8fded",
   "metadata": {},
   "outputs": [
    {
     "name": "stdout",
     "output_type": "stream",
     "text": [
      "6\n",
      "6\n"
     ]
    }
   ],
   "source": [
    "print(arr2.size) # Represents size of the array or element.\n",
    "print(arr3.size)"
   ]
  },
  {
   "cell_type": "code",
   "execution_count": null,
   "id": "d2e8908b",
   "metadata": {},
   "outputs": [
    {
     "name": "stdout",
     "output_type": "stream",
     "text": [
      "int64\n"
     ]
    }
   ],
   "source": [
    "# dtype:- data type of elements\n",
    "print(arr2.dtype)"
   ]
  },
  {
   "cell_type": "code",
   "execution_count": 16,
   "id": "9c5fa974",
   "metadata": {},
   "outputs": [
    {
     "name": "stdout",
     "output_type": "stream",
     "text": [
      "8\n"
     ]
    }
   ],
   "source": [
    "print(arr2.itemsize)"
   ]
  },
  {
   "cell_type": "code",
   "execution_count": null,
   "id": "7031d800",
   "metadata": {},
   "outputs": [],
   "source": []
  }
 ],
 "metadata": {
  "kernelspec": {
   "display_name": "Python 3",
   "language": "python",
   "name": "python3"
  },
  "language_info": {
   "codemirror_mode": {
    "name": "ipython",
    "version": 3
   },
   "file_extension": ".py",
   "mimetype": "text/x-python",
   "name": "python",
   "nbconvert_exporter": "python",
   "pygments_lexer": "ipython3",
   "version": "3.12.4"
  }
 },
 "nbformat": 4,
 "nbformat_minor": 5
}
