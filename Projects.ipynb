{
 "cells": [
  {
   "cell_type": "markdown",
   "id": "708b5e52",
   "metadata": {},
   "source": [
    "## Project 1 - Students Marks Analyzer\n",
    "### Concepts used\n",
    "np.array(), indexing, slicing  \n",
    "sum(axis=1), argmax(), sort()"
   ]
  },
  {
   "cell_type": "code",
   "execution_count": null,
   "id": "64dd2019",
   "metadata": {
    "vscode": {
     "languageId": "plaintext"
    }
   },
   "outputs": [],
   "source": []
  }
 ],
 "metadata": {
  "language_info": {
   "name": "python"
  }
 },
 "nbformat": 4,
 "nbformat_minor": 5
}
