{
 "cells": [
  {
   "cell_type": "markdown",
   "id": "6f1b88ca",
   "metadata": {},
   "source": [
    "##                          Phase 1\n",
    "### Numpy array and basics\n",
    "learn about numpy with chai and code."
   ]
  },
  {
   "cell_type": "code",
   "execution_count": 50,
   "id": "2f7a41ab",
   "metadata": {},
   "outputs": [],
   "source": [
    "import numpy as np"
   ]
  },
  {
   "cell_type": "markdown",
   "id": "9d34b317",
   "metadata": {},
   "source": [
    "### creating array from list"
   ]
  },
  {
   "cell_type": "code",
   "execution_count": 51,
   "id": "b897bad3",
   "metadata": {},
   "outputs": [
    {
     "name": "stdout",
     "output_type": "stream",
     "text": [
      "1D Array:  [1 2 3 4 5]\n",
      "2D Array:  [[1 2 3]\n",
      " [4 5 6]]\n"
     ]
    }
   ],
   "source": [
    "arr_1d = np.array([1,2,3,4,5])\n",
    "print(\"1D Array: \",arr_1d)\n",
    "\n",
    "arr_2d = np.array([[1,2,3],[4,5,6]])\n",
    "print(\"2D Array: \",arr_2d)"
   ]
  },
  {
   "cell_type": "markdown",
   "id": "cb34d139",
   "metadata": {},
   "source": [
    "### List vs numpy array"
   ]
  },
  {
   "cell_type": "code",
   "execution_count": 52,
   "id": "74e06c85",
   "metadata": {},
   "outputs": [
    {
     "name": "stdout",
     "output_type": "stream",
     "text": [
      "Python list Multiplication:  [1, 2, 3, 1, 2, 3]\n",
      "Python array multiplication  [2 4 6]\n",
      "\n",
      " List operation time:  0.052330732345581055\n",
      "\n",
      " Numpy operation time:  0.0037479400634765625\n"
     ]
    }
   ],
   "source": [
    "py_list = [1,2,3]\n",
    "print(\"Python list Multiplication: \",py_list * 2)\n",
    "\n",
    "np_array = np.array([1,2,3]) # element wise multiplication\n",
    "print(\"Python array multiplication \", np_array * 2)\n",
    "\n",
    "import time\n",
    "start = time.time()\n",
    "py_list = [i*2 for i in range(1000000)]\n",
    "print(\"\\n List operation time: \",time.time() - start)\n",
    "\n",
    "start = time.time()\n",
    "np_array = np.arange(1000000) * 2\n",
    "print(\"\\n Numpy operation time: \",time.time() - start)"
   ]
  },
  {
   "cell_type": "markdown",
   "id": "7efb04d9",
   "metadata": {},
   "source": [
    "### Creating array from Scratch\n",
    "\n"
   ]
  },
  {
   "cell_type": "code",
   "execution_count": 53,
   "id": "a3942dd7",
   "metadata": {},
   "outputs": [
    {
     "name": "stdout",
     "output_type": "stream",
     "text": [
      "zeroes Array: \n",
      " [[0. 0. 0. 0.]\n",
      " [0. 0. 0. 0.]\n",
      " [0. 0. 0. 0.]]\n",
      "Ones Array: \n",
      " [[1. 1. 1.]\n",
      " [1. 1. 1.]]\n",
      "One Array: \n",
      " [[7 7 7 7 7 7 7]\n",
      " [7 7 7 7 7 7 7]]\n",
      "Random Array: \n",
      " [[0.27584423 0.11668651 0.063087  ]\n",
      " [0.74051861 0.9451763  0.27661715]]\n",
      "Sequence Array: \n",
      " [0 2 4 6 8]\n"
     ]
    }
   ],
   "source": [
    "zeros = np.zeros((3,4))\n",
    "print(\"zeroes Array: \\n\",zeros)\n",
    "\n",
    "ones = np.ones((2,3))\n",
    "print(\"Ones Array: \\n\",ones)\n",
    "\n",
    "full = np.full((2,7),7)\n",
    "print(\"One Array: \\n\",full)\n",
    "\n",
    "random = np.random.random((2,3))\n",
    "print(\"Random Array: \\n\",random)\n",
    "\n",
    "sequence = np.arange(0,10,2)\n",
    "print(\"Sequence Array: \\n\",sequence)"
   ]
  },
  {
   "cell_type": "markdown",
   "id": "0d1cbd5b",
   "metadata": {},
   "source": [
    "### Vector, Matrix and Tensor"
   ]
  },
  {
   "cell_type": "code",
   "execution_count": 54,
   "id": "54902236",
   "metadata": {},
   "outputs": [
    {
     "name": "stdout",
     "output_type": "stream",
     "text": [
      "Vector: \n",
      " [1 2 3]\n",
      "Matrix: \n",
      " [[1 2 3]\n",
      " [4 5 6]]\n",
      "Tensor: \n",
      " [[[1 2]\n",
      "  [3 4]]\n",
      "\n",
      " [[5 6]\n",
      "  [7 8]]]\n"
     ]
    }
   ],
   "source": [
    "vector = np.array([1,2,3])\n",
    "print(\"Vector: \\n\", vector)\n",
    "\n",
    "matrix = np.array([[1,2,3],[4,5,6]])\n",
    "print(\"Matrix: \\n\",matrix)\n",
    "\n",
    "tensor = np.array([ [ [1,2] ,[3,4] ],\n",
    "                   [ [5,6] , [7,8] ] ])\n",
    "print(\"Tensor: \\n\", tensor)"
   ]
  },
  {
   "cell_type": "markdown",
   "id": "d1a32a8d",
   "metadata": {},
   "source": [
    "### Array Properties"
   ]
  },
  {
   "cell_type": "code",
   "execution_count": 55,
   "id": "1ddf5fc3",
   "metadata": {},
   "outputs": [
    {
     "name": "stdout",
     "output_type": "stream",
     "text": [
      "Shape:  (2, 3)\n",
      "Dimesion:  2\n",
      "Size:  6\n",
      "Dtype:  int64\n"
     ]
    }
   ],
   "source": [
    "arr = np.array([[1,2,3],\n",
    "                [4,5,6]])\n",
    "print(\"Shape: \",arr.shape)\n",
    "print(\"Dimesion: \", arr.ndim)\n",
    "print(\"Size: \",arr.size)\n",
    "print(\"Dtype: \",arr.dtype)\n"
   ]
  },
  {
   "cell_type": "markdown",
   "id": "1b8d2235",
   "metadata": {},
   "source": [
    "### Array Reshaping"
   ]
  },
  {
   "cell_type": "code",
   "execution_count": 56,
   "id": "9947b445",
   "metadata": {},
   "outputs": [
    {
     "name": "stdout",
     "output_type": "stream",
     "text": [
      "Original array: \n",
      " [ 0  1  2  3  4  5  6  7  8  9 10 11]\n",
      "Reshaped array: \n",
      " [[ 0  1  2  3]\n",
      " [ 4  5  6  7]\n",
      " [ 8  9 10 11]]\n",
      "\n",
      " Flattened array:  [ 0  1  2  3  4  5  6  7  8  9 10 11]\n",
      "\n",
      " Raveled array:  [ 0  1  2  3  4  5  6  7  8  9 10 11]\n",
      "Transposed Array: \n",
      " [[ 0  4  8]\n",
      " [ 1  5  9]\n",
      " [ 2  6 10]\n",
      " [ 3  7 11]]\n"
     ]
    }
   ],
   "source": [
    "arr = np.arange(12)\n",
    "print(\"Original array: \\n\",arr)\n",
    "\n",
    "reshaped = arr.reshape((3,4))\n",
    "print(\"Reshaped array: \\n\", reshaped)\n",
    "\n",
    "flattened = reshaped.flatten()\n",
    "print(\"\\n Flattened array: \", flattened)\n",
    "\n",
    "# ravel (returns view, insted of copy)\n",
    "raveled = reshaped.ravel()\n",
    "print(\"\\n Raveled array: \", raveled)\n",
    "\n",
    "# Transpose\n",
    "transpose = reshaped.T\n",
    "print(\"Transposed Array: \\n\",transpose)"
   ]
  }
 ],
 "metadata": {
  "kernelspec": {
   "display_name": "Python 3",
   "language": "python",
   "name": "python3"
  },
  "language_info": {
   "codemirror_mode": {
    "name": "ipython",
    "version": 3
   },
   "file_extension": ".py",
   "mimetype": "text/x-python",
   "name": "python",
   "nbconvert_exporter": "python",
   "pygments_lexer": "ipython3",
   "version": "3.12.4"
  }
 },
 "nbformat": 4,
 "nbformat_minor": 5
}
