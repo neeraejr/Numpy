{
 "cells": [
  {
   "cell_type": "markdown",
   "id": "cc3c9c81",
   "metadata": {},
   "source": [
    "## Phase 2\n",
    "### Numpy array Operations "
   ]
  },
  {
   "cell_type": "code",
   "execution_count": 1,
   "id": "74b91932",
   "metadata": {},
   "outputs": [],
   "source": [
    "import numpy as np"
   ]
  },
  {
   "cell_type": "code",
   "execution_count": 6,
   "id": "3288d073",
   "metadata": {},
   "outputs": [
    {
     "name": "stdout",
     "output_type": "stream",
     "text": [
      "Basic Slicing:  [3 4 5 6 7]\n",
      "with step:  [2 4 6]\n",
      "Negative Indexing:  8\n"
     ]
    }
   ],
   "source": [
    "arr = np.array([1,2,3,4,5,6,7,8,9,10])\n",
    "print(\"Basic Slicing: \", arr[2:7])\n",
    "print(\"with step: \",arr[1:6:2])\n",
    "print(\"Negative Indexing: \",arr[-3])"
   ]
  },
  {
   "cell_type": "code",
   "execution_count": 10,
   "id": "02698172",
   "metadata": {},
   "outputs": [
    {
     "name": "stdout",
     "output_type": "stream",
     "text": [
      "Specific element: \n",
      " 6\n",
      "Entire Row: \n",
      " [4 5 6]\n",
      "Entire Column: \n",
      " [2 5 8]\n"
     ]
    }
   ],
   "source": [
    "arr_2d = np.array([[1,2,3],\n",
    "                   [4,5,6],\n",
    "                   [7,8,9]])\n",
    "print(\"Specific element: \\n\", arr_2d[1,2])\n",
    "print(\"Entire Row: \\n\",arr_2d[1])\n",
    "print(\"Entire Column: \\n\",arr_2d[:,1])"
   ]
  },
  {
   "cell_type": "markdown",
   "id": "21a92855",
   "metadata": {},
   "source": [
    "## Sorting"
   ]
  },
  {
   "cell_type": "code",
   "execution_count": 3,
   "id": "d14c7abd",
   "metadata": {},
   "outputs": [
    {
     "name": "stdout",
     "output_type": "stream",
     "text": [
      "Sorted Array:  [1 2 3 4 5 6 7 8 9]\n",
      "Sorted 2-D array by coloumn: \n",
      " [[1 1]\n",
      " [2 2]\n",
      " [3 3]\n",
      " [4 4]]\n"
     ]
    }
   ],
   "source": [
    "unsorted = np.array([3,1,4,2,5,6,8,7,9])\n",
    "print(\"Sorted Array: \",np.sort(unsorted))\n",
    "\n",
    "arr_2d_unsorted = np.array([[3,1],[1,2],\n",
    "                            [2,4],[4,3]])\n",
    "print(\"Sorted 2-D array by coloumn: \\n\",np.sort(arr_2d_unsorted, axis=0))"
   ]
  },
  {
   "cell_type": "markdown",
   "id": "72025dd2",
   "metadata": {},
   "source": [
    "## Filter"
   ]
  },
  {
   "cell_type": "code",
   "execution_count": 7,
   "id": "3e8d9015",
   "metadata": {},
   "outputs": [
    {
     "name": "stdout",
     "output_type": "stream",
     "text": [
      "Even numbers:  [ 2  4  6  8 10]\n"
     ]
    }
   ],
   "source": [
    "numbers = np.array([1,2,3,4,5,6,7,8,9,10])\n",
    "even_number = numbers[numbers % 2 == 0]\n",
    "print(\"Even numbers: \",even_number)"
   ]
  },
  {
   "cell_type": "markdown",
   "id": "e67983d7",
   "metadata": {},
   "source": [
    "## Filter with mask "
   ]
  },
  {
   "cell_type": "code",
   "execution_count": 12,
   "id": "a2547e70",
   "metadata": {},
   "outputs": [
    {
     "name": "stdout",
     "output_type": "stream",
     "text": [
      "Numbers greater than 5:  [ 6  7  8  9 10]\n"
     ]
    }
   ],
   "source": [
    "mask = numbers > 5\n",
    "print(\"Numbers greater than 5: \",numbers[mask])\n"
   ]
  },
  {
   "cell_type": "markdown",
   "id": "31fc3c01",
   "metadata": {},
   "source": [
    "## Fancey indexing vs np.where()"
   ]
  },
  {
   "cell_type": "code",
   "execution_count": 14,
   "id": "a4e1f056",
   "metadata": {},
   "outputs": [
    {
     "name": "stdout",
     "output_type": "stream",
     "text": [
      "[1 3 5]\n",
      "NP where:  [ 6  7  8  9 10]\n"
     ]
    }
   ],
   "source": [
    "indices = [0,2,4]\n",
    "print(numbers[indices])\n",
    "\n",
    "when_result = np.where( numbers > 5)\n",
    "print(\"NP where: \",numbers[when_result])\n",
    "\n"
   ]
  },
  {
   "cell_type": "code",
   "execution_count": 18,
   "id": "88f03493",
   "metadata": {},
   "outputs": [
    {
     "name": "stdout",
     "output_type": "stream",
     "text": [
      "[ 1  2  3  4  5 12 14 16 18 20]\n"
     ]
    }
   ],
   "source": [
    "# condition_array = np.where(condition, statement 1 if true condition,\n",
    "# statement 2 if condition false)\n",
    "condition_array = np.where(numbers > 5, numbers*2, numbers)\n",
    "print(condition_array)"
   ]
  },
  {
   "cell_type": "markdown",
   "id": "46a9bc85",
   "metadata": {},
   "source": [
    "### Adding and removing data"
   ]
  },
  {
   "cell_type": "code",
   "execution_count": 21,
   "id": "2b72d7dd",
   "metadata": {},
   "outputs": [
    {
     "name": "stdout",
     "output_type": "stream",
     "text": [
      "[1 2 3 4 5 6]\n"
     ]
    }
   ],
   "source": [
    "arr1 = np.array([1,2,3])\n",
    "arr2 = np.array([4,5,6])\n",
    "# combined_array = arr1 + arr2   --> Wrong method it adds not merge.\n",
    "# print(combined_array)\n",
    "combined_array = np.concatenate((arr1,arr2))\n",
    "print(combined_array)"
   ]
  },
  {
   "cell_type": "markdown",
   "id": "6ce1fc83",
   "metadata": {},
   "source": [
    "### Array compatibility"
   ]
  },
  {
   "cell_type": "code",
   "execution_count": 25,
   "id": "47ec39b7",
   "metadata": {},
   "outputs": [
    {
     "name": "stdout",
     "output_type": "stream",
     "text": [
      "Compatibility shapes:  True\n"
     ]
    }
   ],
   "source": [
    "a = np.array([1,2,3])\n",
    "b = np.array([4,5,6])\n",
    "c = np.array([7,8,9])\n",
    "print(\"Compatibility shapes: \",a.shape == b.shape)\n"
   ]
  },
  {
   "cell_type": "code",
   "execution_count": 30,
   "id": "15deefca",
   "metadata": {},
   "outputs": [
    {
     "name": "stdout",
     "output_type": "stream",
     "text": [
      "[[1 2]\n",
      " [3 4]]\n",
      "Row added:\n",
      " [[1 2]\n",
      " [3 4]\n",
      " [5 6]]\n",
      "Coloumn added: \n",
      " [[1 2 7]\n",
      " [3 4 8]]\n"
     ]
    }
   ],
   "source": [
    "original = np.array([[1,2],[3,4]])\n",
    "new_row = np.array([[5,6]])\n",
    "\n",
    "with_new_row = np.vstack((original, new_row))\n",
    "print(original)\n",
    "print(\"Row added:\\n\",with_new_row)\n",
    "\n",
    "new_col = np.array([[7],[8]])\n",
    "with_new_col = np.hstack((original,new_col))\n",
    "print(\"Coloumn added: \\n\",with_new_col)"
   ]
  },
  {
   "cell_type": "code",
   "execution_count": null,
   "id": "2f9a3cab",
   "metadata": {},
   "outputs": [
    {
     "name": "stdout",
     "output_type": "stream",
     "text": [
      "Array after deletion:  [1 2 4 5]\n"
     ]
    }
   ],
   "source": [
    "arr = np.array([1,2,3,4,5])\n",
    "deleted = np.delete(arr,2)\n",
    "print(\"Array after deletion: \",deleted)"
   ]
  }
 ],
 "metadata": {
  "kernelspec": {
   "display_name": "Python 3",
   "language": "python",
   "name": "python3"
  },
  "language_info": {
   "codemirror_mode": {
    "name": "ipython",
    "version": 3
   },
   "file_extension": ".py",
   "mimetype": "text/x-python",
   "name": "python",
   "nbconvert_exporter": "python",
   "pygments_lexer": "ipython3",
   "version": "3.12.4"
  }
 },
 "nbformat": 4,
 "nbformat_minor": 5
}
