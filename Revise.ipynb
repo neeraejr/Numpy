{
 "cells": [
  {
   "cell_type": "markdown",
   "id": "14f73fcc",
   "metadata": {},
   "source": [
    "## Phase 1 Revision\n"
   ]
  },
  {
   "cell_type": "code",
   "execution_count": 2,
   "id": "15b322f9",
   "metadata": {},
   "outputs": [],
   "source": [
    "import numpy as np "
   ]
  },
  {
   "cell_type": "code",
   "execution_count": 5,
   "id": "e0f35d78",
   "metadata": {},
   "outputs": [
    {
     "name": "stdout",
     "output_type": "stream",
     "text": [
      "1D array:  [1 2 3]\n",
      "2D array: \n",
      " [[1 2]\n",
      " [3 4]]\n"
     ]
    }
   ],
   "source": [
    "arr_1d = np.array([1,2,3])\n",
    "print(\"1D array: \",arr_1d)\n",
    "\n",
    "arr_2d = np.array([[1,2],[3,4]])\n",
    "print(\"2D array: \\n\",arr_2d)"
   ]
  },
  {
   "cell_type": "code",
   "execution_count": 8,
   "id": "ace97f82",
   "metadata": {},
   "outputs": [
    {
     "name": "stdout",
     "output_type": "stream",
     "text": [
      "Python list:  [1, 2, 3]\n",
      "Numpy array: \n",
      " [[1 2 3]\n",
      " [4 5 6]]\n"
     ]
    }
   ],
   "source": [
    "my_list = [1,2,3]\n",
    "print(\"Python list: \",my_list)\n",
    "\n",
    "arr = np.array([[1,2,3],[4,5,6]])\n",
    "print(\"Numpy array: \\n\",arr)"
   ]
  },
  {
   "cell_type": "code",
   "execution_count": 12,
   "id": "05b1a213",
   "metadata": {},
   "outputs": [
    {
     "name": "stdout",
     "output_type": "stream",
     "text": [
      "Zero array: \n",
      " [[0. 0. 0. 0.]\n",
      " [0. 0. 0. 0.]\n",
      " [0. 0. 0. 0.]]\n",
      "Ones array: \n",
      " [[1. 1. 1. 1. 1.]\n",
      " [1. 1. 1. 1. 1.]\n",
      " [1. 1. 1. 1. 1.]\n",
      " [1. 1. 1. 1. 1.]]\n",
      "Full array: \n",
      " [[10 10 10]\n",
      " [10 10 10]]\n",
      "Random array: \n",
      " [[0.91106454 0.27883599 0.38653947 0.44663673]\n",
      " [0.8274052  0.24977675 0.217466   0.93744901]\n",
      " [0.96525029 0.45829989 0.5796268  0.80381021]]\n",
      "Sequence array:  [1 4 7]\n"
     ]
    }
   ],
   "source": [
    "zeros = np.zeros((3,4))\n",
    "print(\"Zero array: \\n\",zeros)\n",
    "\n",
    "ones = np.ones((4,5))\n",
    "print(\"Ones array: \\n\",ones)\n",
    "\n",
    "full = np.full((2,3),10)\n",
    "print(\"Full array: \\n\",full)\n",
    "\n",
    "random = np.random.random((3,4))\n",
    "print(\"Random array: \\n\",random)\n",
    "\n",
    "sequence = np.arange(1,10,3)\n",
    "print(\"Sequence array: \",sequence)"
   ]
  },
  {
   "cell_type": "code",
   "execution_count": 15,
   "id": "824cab2e",
   "metadata": {},
   "outputs": [
    {
     "name": "stdout",
     "output_type": "stream",
     "text": [
      "Vector array:  [1 2 3]\n",
      "Matrix array: \n",
      " [[1 2]\n",
      " [3 4]]\n",
      "Tensor array: \n",
      " [[[1 2]\n",
      "  [4 3]]\n",
      "\n",
      " [[5 6]\n",
      "  [8 7]]]\n"
     ]
    }
   ],
   "source": [
    "vector = np.array([1,2,3])\n",
    "print(\"Vector array: \",vector)\n",
    "\n",
    "matrix = np.array([[1,2],[3,4]])\n",
    "print(\"Matrix array: \\n\",matrix)\n",
    "\n",
    "tensor = np.array([[[1,2],[4,3]],\n",
    "                   [[5,6],[8,7]]])\n",
    "print(\"Tensor array: \\n\", tensor)\n"
   ]
  },
  {
   "cell_type": "code",
   "execution_count": 17,
   "id": "c4bc03df",
   "metadata": {},
   "outputs": [
    {
     "name": "stdout",
     "output_type": "stream",
     "text": [
      "2D array: \n",
      " [[1 2 3]\n",
      " [4 5 6]\n",
      " [7 8 9]]\n",
      "Shape:  (3, 3)\n",
      "Size:  9\n",
      "Dimension:  2\n",
      "Data type:  int64\n"
     ]
    }
   ],
   "source": [
    "arr_2D = np.array([[1,2,3],[4,5,6],[7,8,9]])\n",
    "print(\"2D array: \\n\",arr_2D)\n",
    "print(\"Shape: \",arr_2D.shape)\n",
    "print(\"Size: \",arr_2D.size)\n",
    "print(\"Dimension: \",arr_2D.ndim)\n",
    "print(\"Data type: \",arr_2D.dtype)"
   ]
  },
  {
   "cell_type": "code",
   "execution_count": 3,
   "id": "4493a207",
   "metadata": {},
   "outputs": [
    {
     "name": "stdout",
     "output_type": "stream",
     "text": [
      "Original array:  [ 0  1  2  3  4  5  6  7  8  9 10 11]\n",
      "Reshaped array: \n",
      " [[ 0  1  2  3]\n",
      " [ 4  5  6  7]\n",
      " [ 8  9 10 11]]\n",
      "Flatened array: \n",
      " [ 0  1  2  3  4  5  6  7  8  9 10 11]\n",
      "Raveled array: \n",
      " [ 0  1  2  3  4  5  6  7  8  9 10 11]\n",
      "Transpose array: \n",
      " [[ 0  4  8]\n",
      " [ 1  5  9]\n",
      " [ 2  6 10]\n",
      " [ 3  7 11]]\n"
     ]
    }
   ],
   "source": [
    "arr_og = np.arange(12)\n",
    "print(\"Original array: \",arr_og)\n",
    "\n",
    "reshaped = arr_og.reshape((3,4))\n",
    "print(\"Reshaped array: \\n\",reshaped)\n",
    "\n",
    "flattened = reshaped.flatten()\n",
    "print(\"Flatened array: \\n\",flattened)\n",
    "\n",
    "raveled = reshaped.ravel()\n",
    "print(\"Raveled array: \\n\",raveled)\n",
    "\n",
    "transpose = reshaped.T \n",
    "print(\"Transpose array: \\n\",transpose)"
   ]
  },
  {
   "cell_type": "markdown",
   "id": "f23cd09b",
   "metadata": {},
   "source": [
    "## Phase 2 Revision"
   ]
  },
  {
   "cell_type": "code",
   "execution_count": 23,
   "id": "d2cb6b8b",
   "metadata": {},
   "outputs": [
    {
     "name": "stdout",
     "output_type": "stream",
     "text": [
      "Basic Slicing:  [2 3 4]\n",
      "With Step:  [ 2  4  6  8 10]\n",
      "Negative Indexing:  [6 7 8 9]\n"
     ]
    }
   ],
   "source": [
    "arr = np.array([1,2,3,4,5,6,7,8,9,10])\n",
    "print(\"Basic Slicing: \",arr[1:4])\n",
    "print(\"With Step: \",arr[1:10:2])\n",
    "print(\"Negative Indexing: \",arr[-5:-1])"
   ]
  },
  {
   "cell_type": "code",
   "execution_count": 27,
   "id": "bfb1dbd6",
   "metadata": {},
   "outputs": [
    {
     "name": "stdout",
     "output_type": "stream",
     "text": [
      "Specific Element:  9\n",
      "Specific Coloumn:  [2 5 8]\n",
      "Specific Row:  [4 5 6]\n"
     ]
    }
   ],
   "source": [
    "arr2d =np.array([[1,2,3],\n",
    "                 [4,5,6],\n",
    "                 [7,8,9]]) \n",
    "print(\"Specific Element: \", arr2d[2,2])\n",
    "print(\"Specific Coloumn: \",arr2d[:,1])\n",
    "print(\"Specific Row: \",arr2d[1])"
   ]
  },
  {
   "cell_type": "code",
   "execution_count": 34,
   "id": "3174deda",
   "metadata": {},
   "outputs": [
    {
     "name": "stdout",
     "output_type": "stream",
     "text": [
      "1D Sort:  [1 2 3 5 6]\n",
      "2D Sort:  [[1 1]\n",
      " [2 2]\n",
      " [3 3]]\n"
     ]
    }
   ],
   "source": [
    "a1d = np.array([1,5,3,6,2])\n",
    "print(\"1D Sort: \",np.sort(a1d))\n",
    "\n",
    "a2d = np.array([[2,1],\n",
    "               [3,2],\n",
    "               [1,3]])\n",
    "print(\"2D Sort: \",np.sort(a2d,axis=0))"
   ]
  }
 ],
 "metadata": {
  "kernelspec": {
   "display_name": "Python 3",
   "language": "python",
   "name": "python3"
  },
  "language_info": {
   "codemirror_mode": {
    "name": "ipython",
    "version": 3
   },
   "file_extension": ".py",
   "mimetype": "text/x-python",
   "name": "python",
   "nbconvert_exporter": "python",
   "pygments_lexer": "ipython3",
   "version": "3.12.4"
  }
 },
 "nbformat": 4,
 "nbformat_minor": 5
}
