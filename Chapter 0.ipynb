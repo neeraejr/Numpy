{
 "cells": [
  {
   "cell_type": "markdown",
   "id": "617c13db",
   "metadata": {},
   "source": [
    "Day 1:  Basics\n",
    "  -> WHat is Numpy?\n",
    "  -> Installation % import\n",
    "  -> np.array(), dimensions, shape, size, dtype"
   ]
  },
  {
   "cell_type": "markdown",
   "id": "5aa45de9",
   "metadata": {},
   "source": [
    "Day 2: Array Creation & Slicing\n",
    "  -> zeros(), ones(), full(), arange(), linespace()\n",
    "  -> random arrays\n",
    "  -> Indexing & slicing(1D, 2D) \n",
    "  -> reshape(), flatten()"
   ]
  },
  {
   "cell_type": "markdown",
   "id": "ec013ba5",
   "metadata": {},
   "source": [
    "Day 3: Operations\n",
    "  -> Arithmetic ops: +,-,*,/\n",
    "  -> add(), subtract() etc.\n",
    "  -> unfuncs: sqrt(), log(), exp()\n",
    "  -> sum(), mean(), std(), argmax()"
   ]
  },
  {
   "cell_type": "markdown",
   "id": "55e9d5c3",
   "metadata": {},
   "source": [
    "Day 4: Advanced Indexing\n",
    "  -> Boolean Indexing\n",
    "  -> Fancy Indexing\n",
    "  -> where(), nonzero()\n",
    "  -> any(), all()"
   ]
  },
  {
   "cell_type": "markdown",
   "id": "b1cb1f56",
   "metadata": {},
   "source": [
    "Day 5: BroadCasting + Copy vs View\n",
    "  -> Broadcasting rules\n",
    "  -> Scalar vs array ops\n",
    "  -> Copy vs View difference"
   ]
  },
  {
   "cell_type": "markdown",
   "id": "53d7f29d",
   "metadata": {},
   "source": [
    "Day 6: Random + Matrix Ops\n",
    "  -> rand(), rnadint(), seed()\n",
    "  -> Sorting: sort(), argsort()\n",
    "  -> Matrix ops: dot(), transpose(), inv(), identity"
   ]
  },
  {
   "cell_type": "markdown",
   "id": "7496a577",
   "metadata": {},
   "source": [
    "Day 7: Revision + Projects\n",
    "  -> Full Revision\n",
    "  -> 1-2 real-world mini projects using Numpy"
   ]
  }
 ],
 "metadata": {
  "language_info": {
   "name": "python"
  }
 },
 "nbformat": 4,
 "nbformat_minor": 5
}
